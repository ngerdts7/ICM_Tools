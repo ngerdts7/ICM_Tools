{
 "cells": [
  {
   "cell_type": "code",
   "execution_count": 5,
   "metadata": {},
   "outputs": [],
   "source": [
    "from infowater.output.manager import Manager as OutMan\n",
    "import arcpy\n",
    "from pathlib import Path\n",
    "import csv\n",
    "\n",
    "# Define Project information\n",
    "project_name = \"Sample\"\n",
    "scenario = \"Base\"\n",
    "\n",
    "# Prepare output\n",
    "aprx = arcpy.mp.ArcGISProject(\"CURRENT\")\n",
    "project_path = Path(aprx.filePath).parent\n",
    "out_path = str(project_path) + \"/\" + project_name + \".OUT/SCENARIO/\" + scenario + \"/HYDQUA.OUT\"\n",
    "outman = OutMan(out_path)\n"
   ]
  },
  {
   "cell_type": "code",
   "execution_count": 6,
   "metadata": {},
   "outputs": [
    {
     "name": "stdout",
     "output_type": "stream",
     "text": [
      "['1', '11', '13', '15', '17', '19', '21', '23', '25', '27', '29', '3', '31', '33', '35', '37', '39', '41', '43', '45', '47', '49', '5', '51', '53', '55', '57', '59', '61', '63', '65', '67', '69', '7', '71', '73', '75', '77', '79', '81', '83', '85', '87', '89', '9', '900']\n"
     ]
    }
   ],
   "source": [
    "# Get List of objects to export.\n",
    "junctions = outman.get_element_list(\"junction\");\n",
    "\n",
    "# Apply filtering if needed and review list. See \"Use of Domain and Selection Sets\" script for examples.\n",
    "print(junctions)"
   ]
  },
  {
   "cell_type": "code",
   "execution_count": 7,
   "metadata": {},
   "outputs": [],
   "source": [
    "# Export results to CSV\n",
    "# This example includes Time, Demand, Pressure, and Head for all Junctions.\n",
    "# Check the units and convert as needed.\n",
    "\n",
    "Junction_timeseries = str(project_path) + \"/Junction_timeseries.csv\"\n",
    "\n",
    "time = outman.get_time_list()\n",
    "\n",
    "with open(Junction_timeseries, 'w', newline='') as file:\n",
    "    writer = csv.writer(file)\n",
    "    writer.writerow(['ID', 'Time (hrs)', 'Demand (gpm)', 'Pressure (psi)', 'Head (ft)'])\n",
    "    for id in junctions:\n",
    "        demand = outman.get_time_data(\"junction\", id, \"demand\")*448.8\n",
    "        pressure = outman.get_time_data(\"junction\", id, \"pressure\")*448.8\n",
    "        head = outman.get_time_data(\"junction\", id, \"head\")\n",
    "        for i in range(len(time)):\n",
    "            writer.writerow([id, str(time[i]), str(demand[i]), str(pressure[i]), str(head[i])])"
   ]
  }
 ],
 "metadata": {
  "kernelspec": {
   "display_name": "ArcGISPro",
   "language": "Python",
   "name": "python3"
  },
  "language_info": {
   "file_extension": ".py",
   "name": "python",
   "version": "3"
  }
 },
 "nbformat": 4,
 "nbformat_minor": 2
}
